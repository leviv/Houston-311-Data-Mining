{
 "cells": [
  {
   "cell_type": "markdown",
   "metadata": {},
   "source": [
    "# Houston 311 Service Requests Data Mining Project"
   ]
  },
  {
   "cell_type": "markdown",
   "metadata": {},
   "source": [
    "## Group members\n",
    "Stephen Huang\n",
    "\n",
    "Levi Villarreal\n",
    "\n",
    "Joshua Wong\n",
    "\n",
    "Andrew Young\n"
   ]
  },
  {
   "cell_type": "markdown",
   "metadata": {},
   "source": [
    "### Code Imports"
   ]
  },
  {
   "cell_type": "code",
   "execution_count": 1,
   "metadata": {},
   "outputs": [],
   "source": [
    "import pandas as pd\n",
    "import numpy as np\n",
    "pd.set_option('display.max_rows', 500)\n",
    "import time\n",
    "import datetime\n",
    "import zipfile\n",
    "\n",
    "from sklearn.model_selection import train_test_split\n",
    "from sklearn import preprocessing\n",
    "\n",
    "from sklearn.model_selection import GridSearchCV\n",
    "from sklearn.model_selection import cross_val_score\n",
    "from sklearn.preprocessing import StandardScaler\n",
    "from sklearn.decomposition import PCA\n",
    "from imblearn.over_sampling import SMOTE\n",
    "from imblearn.pipeline import Pipeline\n",
    "from sklearn.svm import SVC\n",
    "from sklearn.model_selection import train_test_split\n",
    "from sklearn import tree\n",
    "from sklearn.metrics import accuracy_score\n",
    "from sklearn.model_selection import cross_val_predict\n",
    "from sklearn.metrics import confusion_matrix\n",
    "from sklearn.metrics import classification_report\n",
    "from sklearn.ensemble import VotingClassifier\n",
    "import pickle\n",
    "import warnings\n",
    "warnings.simplefilter('ignore')"
   ]
  },
  {
   "cell_type": "markdown",
   "metadata": {},
   "source": [
    "### Import data"
   ]
  },
  {
   "cell_type": "code",
   "execution_count": 2,
   "metadata": {},
   "outputs": [
    {
     "name": "stdout",
     "output_type": "stream",
     "text": [
      "(399953, 29)\n"
     ]
    },
    {
     "data": {
      "text/html": [
       "<div>\n",
       "<style scoped>\n",
       "    .dataframe tbody tr th:only-of-type {\n",
       "        vertical-align: middle;\n",
       "    }\n",
       "\n",
       "    .dataframe tbody tr th {\n",
       "        vertical-align: top;\n",
       "    }\n",
       "\n",
       "    .dataframe thead th {\n",
       "        text-align: right;\n",
       "    }\n",
       "</style>\n",
       "<table border=\"1\" class=\"dataframe\">\n",
       "  <thead>\n",
       "    <tr style=\"text-align: right;\">\n",
       "      <th></th>\n",
       "      <th>CASE NUMBER</th>\n",
       "      <th>SR LOCATION</th>\n",
       "      <th>COUNTY</th>\n",
       "      <th>DISTRICT</th>\n",
       "      <th>NEIGHBORHOOD</th>\n",
       "      <th>TAX ID</th>\n",
       "      <th>TRASH QUAD</th>\n",
       "      <th>RECYCLE QUAD</th>\n",
       "      <th>TRASH DAY</th>\n",
       "      <th>HEAVY TRASH DAY</th>\n",
       "      <th>...</th>\n",
       "      <th>SR CREATE DATE</th>\n",
       "      <th>DUE DATE</th>\n",
       "      <th>DATE CLOSED</th>\n",
       "      <th>OVERDUE</th>\n",
       "      <th>TITLE</th>\n",
       "      <th>x</th>\n",
       "      <th>y</th>\n",
       "      <th>LATITUDE</th>\n",
       "      <th>LONGITUDE</th>\n",
       "      <th>CHANNEL TYPE</th>\n",
       "    </tr>\n",
       "  </thead>\n",
       "  <tbody>\n",
       "    <tr>\n",
       "      <th>0</th>\n",
       "      <td>CASE NUMBER</td>\n",
       "      <td>SR LOCATION</td>\n",
       "      <td>COUNTY</td>\n",
       "      <td>DISTRICT</td>\n",
       "      <td>NEIGHBORHOOD</td>\n",
       "      <td>TAX ID</td>\n",
       "      <td>TRASH QUAD</td>\n",
       "      <td>RECYCLE QUAD</td>\n",
       "      <td>TRASH DAY</td>\n",
       "      <td>HEAVY TRASH DAY</td>\n",
       "      <td>...</td>\n",
       "      <td>SR CREATE DATE</td>\n",
       "      <td>DUE DATE</td>\n",
       "      <td>DATE CLOSED</td>\n",
       "      <td>OVERDUE</td>\n",
       "      <td>Title</td>\n",
       "      <td>x</td>\n",
       "      <td>y</td>\n",
       "      <td>LATITUDE</td>\n",
       "      <td>LONGITUDE</td>\n",
       "      <td>Channel Type</td>\n",
       "    </tr>\n",
       "    <tr>\n",
       "      <th>1</th>\n",
       "      <td>101002866096</td>\n",
       "      <td>Intersection 13300 HEMPSTEAD RD&amp;9100 PINEMONT ...</td>\n",
       "      <td>NaN</td>\n",
       "      <td>A</td>\n",
       "      <td>FAIRBANKS / NORTHWEST CROSSING</td>\n",
       "      <td>NaN</td>\n",
       "      <td>NaN</td>\n",
       "      <td>NaN</td>\n",
       "      <td>NaN</td>\n",
       "      <td>NaN</td>\n",
       "      <td>...</td>\n",
       "      <td>2018-01-01 00:38:05</td>\n",
       "      <td>2018-01-02 00:38:05</td>\n",
       "      <td>2018-01-01 01:31:49</td>\n",
       "      <td>-0.96</td>\n",
       "      <td>Traffic Signal Maintenance-101002866096</td>\n",
       "      <td>3073146.72528000000</td>\n",
       "      <td>13869806.76417000000</td>\n",
       "      <td>NaN</td>\n",
       "      <td>NaN</td>\n",
       "      <td>Voice In</td>\n",
       "    </tr>\n",
       "    <tr>\n",
       "      <th>2</th>\n",
       "      <td>12202635-101002866097</td>\n",
       "      <td>2803 W BELLFORT, HOUSTON TX 77054</td>\n",
       "      <td>NaN</td>\n",
       "      <td>K</td>\n",
       "      <td>SOUTH MAIN</td>\n",
       "      <td>NaN</td>\n",
       "      <td>NaN</td>\n",
       "      <td>NaN</td>\n",
       "      <td>NaN</td>\n",
       "      <td>NaN</td>\n",
       "      <td>...</td>\n",
       "      <td>2018-01-01 00:41:49</td>\n",
       "      <td>2018-01-11 00:41:49</td>\n",
       "      <td>2018-01-01 05:45:02</td>\n",
       "      <td>-9.79</td>\n",
       "      <td>Water Leak-101002866097</td>\n",
       "      <td>3104254.38025000000</td>\n",
       "      <td>13809501.20958000000</td>\n",
       "      <td>29.67268442</td>\n",
       "      <td>-95.42283905</td>\n",
       "      <td>Voice In</td>\n",
       "    </tr>\n",
       "    <tr>\n",
       "      <th>3</th>\n",
       "      <td>12202636-101002866098</td>\n",
       "      <td>2115 HUTTON, HOUSTON TX 77026</td>\n",
       "      <td>HARRIS</td>\n",
       "      <td>B</td>\n",
       "      <td>GREATER FIFTH WARD</td>\n",
       "      <td>0170560000001</td>\n",
       "      <td>NE</td>\n",
       "      <td>NW</td>\n",
       "      <td>FRIDAY</td>\n",
       "      <td>1st Thursday</td>\n",
       "      <td>...</td>\n",
       "      <td>2018-01-01 00:45:07</td>\n",
       "      <td>2018-01-03 00:45:07</td>\n",
       "      <td>2018-01-01 09:55:02</td>\n",
       "      <td>-1.62</td>\n",
       "      <td>Water Service-101002866098</td>\n",
       "      <td>3131779.00434000000</td>\n",
       "      <td>13849821.40912000000</td>\n",
       "      <td>29.7811689</td>\n",
       "      <td>-95.33222248</td>\n",
       "      <td>Voice In</td>\n",
       "    </tr>\n",
       "    <tr>\n",
       "      <th>4</th>\n",
       "      <td>12202637-101002866099</td>\n",
       "      <td>14806 STEEPLE CHASE, HOUSTON TX 77489</td>\n",
       "      <td>FORT BEND</td>\n",
       "      <td>K</td>\n",
       "      <td>FORT BEND HOUSTON</td>\n",
       "      <td>9550030090110907</td>\n",
       "      <td>SW</td>\n",
       "      <td>SW</td>\n",
       "      <td>THURSDAY</td>\n",
       "      <td>3rd Thursday</td>\n",
       "      <td>...</td>\n",
       "      <td>2018-01-01 00:51:20</td>\n",
       "      <td>2018-01-06 00:51:20</td>\n",
       "      <td>2018-01-01 16:10:02</td>\n",
       "      <td>-4.36</td>\n",
       "      <td>Water Main Valve-101002866099</td>\n",
       "      <td>3079284.91871000000</td>\n",
       "      <td>13786008.44784000000</td>\n",
       "      <td>29.61018299</td>\n",
       "      <td>-95.50364663</td>\n",
       "      <td>Voice In</td>\n",
       "    </tr>\n",
       "  </tbody>\n",
       "</table>\n",
       "<p>5 rows × 29 columns</p>\n",
       "</div>"
      ],
      "text/plain": [
       "             CASE NUMBER                                        SR LOCATION  \\\n",
       "0            CASE NUMBER                                        SR LOCATION   \n",
       "1           101002866096  Intersection 13300 HEMPSTEAD RD&9100 PINEMONT ...   \n",
       "2  12202635-101002866097                  2803 W BELLFORT, HOUSTON TX 77054   \n",
       "3  12202636-101002866098                      2115 HUTTON, HOUSTON TX 77026   \n",
       "4  12202637-101002866099              14806 STEEPLE CHASE, HOUSTON TX 77489   \n",
       "\n",
       "      COUNTY  DISTRICT                    NEIGHBORHOOD            TAX ID  \\\n",
       "0     COUNTY  DISTRICT                    NEIGHBORHOOD            TAX ID   \n",
       "1        NaN         A  FAIRBANKS / NORTHWEST CROSSING               NaN   \n",
       "2        NaN         K                      SOUTH MAIN               NaN   \n",
       "3     HARRIS         B              GREATER FIFTH WARD     0170560000001   \n",
       "4  FORT BEND         K               FORT BEND HOUSTON  9550030090110907   \n",
       "\n",
       "   TRASH QUAD  RECYCLE QUAD  TRASH DAY  HEAVY TRASH DAY  ...  \\\n",
       "0  TRASH QUAD  RECYCLE QUAD  TRASH DAY  HEAVY TRASH DAY  ...   \n",
       "1         NaN           NaN        NaN              NaN  ...   \n",
       "2         NaN           NaN        NaN              NaN  ...   \n",
       "3          NE            NW     FRIDAY     1st Thursday  ...   \n",
       "4          SW            SW   THURSDAY     3rd Thursday  ...   \n",
       "\n",
       "        SR CREATE DATE             DUE DATE          DATE CLOSED  OVERDUE  \\\n",
       "0       SR CREATE DATE             DUE DATE          DATE CLOSED  OVERDUE   \n",
       "1  2018-01-01 00:38:05  2018-01-02 00:38:05  2018-01-01 01:31:49    -0.96   \n",
       "2  2018-01-01 00:41:49  2018-01-11 00:41:49  2018-01-01 05:45:02    -9.79   \n",
       "3  2018-01-01 00:45:07  2018-01-03 00:45:07  2018-01-01 09:55:02    -1.62   \n",
       "4  2018-01-01 00:51:20  2018-01-06 00:51:20  2018-01-01 16:10:02    -4.36   \n",
       "\n",
       "                                     TITLE                    x  \\\n",
       "0                                    Title                    x   \n",
       "1  Traffic Signal Maintenance-101002866096  3073146.72528000000   \n",
       "2                  Water Leak-101002866097  3104254.38025000000   \n",
       "3               Water Service-101002866098  3131779.00434000000   \n",
       "4            Water Main Valve-101002866099  3079284.91871000000   \n",
       "\n",
       "                      y     LATITUDE     LONGITUDE  CHANNEL TYPE  \n",
       "0                     y     LATITUDE     LONGITUDE  Channel Type  \n",
       "1  13869806.76417000000          NaN           NaN      Voice In  \n",
       "2  13809501.20958000000  29.67268442  -95.42283905      Voice In  \n",
       "3  13849821.40912000000   29.7811689  -95.33222248      Voice In  \n",
       "4  13786008.44784000000  29.61018299  -95.50364663      Voice In  \n",
       "\n",
       "[5 rows x 29 columns]"
      ]
     },
     "execution_count": 2,
     "metadata": {},
     "output_type": "execute_result"
    }
   ],
   "source": [
    "\n",
    "# Data is from http://www.houstontx.gov/311/\n",
    "names = [\"CASE NUMBER\", \"SR LOCATION\", \"COUNTY\", \"DISTRICT\", \"NEIGHBORHOOD\", \"TAX ID\", \n",
    "         \"TRASH QUAD\", \"RECYCLE QUAD\", \"TRASH DAY\", \"HEAVY TRASH DAY\", \"RECYCLE DAY\", \n",
    "         \"KEY MAP\", \"MANAGEMENT DISTRICT\", \"DEPARTMENT\", \"DIVISION\", \"SR TYPE\", \"QUEUE\", \n",
    "         \"SLA\", \"STATUS\", \"SR CREATE DATE\", \"DUE DATE\", \"DATE CLOSED\", \"OVERDUE\", \"TITLE\", \n",
    "         \"x\", \"y\", \"LATITUDE\", \"LONGITUDE\", \"CHANNEL TYPE\"]\n",
    "\n",
    "with zipfile.ZipFile(\"311-Public-Data-Extract-2018-clean.txt.zip\",\"r\") as zip_ref:\n",
    "    zip_ref.extractall(\"\")\n",
    "\n",
    "data = pd.read_csv('311-Public-Data-Extract-2018-clean.txt', sep=\"|\", header=None, names=names)\n",
    "print(data.shape)\n",
    "data.head()"
   ]
  },
  {
   "cell_type": "markdown",
   "metadata": {},
   "source": [
    "## Dimensionality Reduction\n",
    "Right off the bat, we can see that there are many features that do not matter at all to our project.\n",
    "We can go ahead and get rid of these to help prevent against the curse of dimensionality."
   ]
  },
  {
   "cell_type": "code",
   "execution_count": 3,
   "metadata": {},
   "outputs": [
    {
     "name": "stdout",
     "output_type": "stream",
     "text": [
      "(399953, 13)\n"
     ]
    },
    {
     "data": {
      "text/html": [
       "<div>\n",
       "<style scoped>\n",
       "    .dataframe tbody tr th:only-of-type {\n",
       "        vertical-align: middle;\n",
       "    }\n",
       "\n",
       "    .dataframe tbody tr th {\n",
       "        vertical-align: top;\n",
       "    }\n",
       "\n",
       "    .dataframe thead th {\n",
       "        text-align: right;\n",
       "    }\n",
       "</style>\n",
       "<table border=\"1\" class=\"dataframe\">\n",
       "  <thead>\n",
       "    <tr style=\"text-align: right;\">\n",
       "      <th></th>\n",
       "      <th>COUNTY</th>\n",
       "      <th>DISTRICT</th>\n",
       "      <th>NEIGHBORHOOD</th>\n",
       "      <th>MANAGEMENT DISTRICT</th>\n",
       "      <th>DEPARTMENT</th>\n",
       "      <th>DIVISION</th>\n",
       "      <th>SR TYPE</th>\n",
       "      <th>QUEUE</th>\n",
       "      <th>SLA</th>\n",
       "      <th>STATUS</th>\n",
       "      <th>SR CREATE DATE</th>\n",
       "      <th>OVERDUE</th>\n",
       "      <th>CHANNEL TYPE</th>\n",
       "    </tr>\n",
       "  </thead>\n",
       "  <tbody>\n",
       "    <tr>\n",
       "      <th>0</th>\n",
       "      <td>COUNTY</td>\n",
       "      <td>DISTRICT</td>\n",
       "      <td>NEIGHBORHOOD</td>\n",
       "      <td>MANAGEMENT DISTRICT</td>\n",
       "      <td>DEPARTMENT</td>\n",
       "      <td>DIVISION</td>\n",
       "      <td>SR TYPE</td>\n",
       "      <td>QUEUE</td>\n",
       "      <td>SLA</td>\n",
       "      <td>STATUS</td>\n",
       "      <td>SR CREATE DATE</td>\n",
       "      <td>OVERDUE</td>\n",
       "      <td>Channel Type</td>\n",
       "    </tr>\n",
       "    <tr>\n",
       "      <th>1</th>\n",
       "      <td>NaN</td>\n",
       "      <td>A</td>\n",
       "      <td>FAIRBANKS / NORTHWEST CROSSING</td>\n",
       "      <td>Spring Branch MD</td>\n",
       "      <td>PWE Public Works Engineering</td>\n",
       "      <td>Traffic Operations</td>\n",
       "      <td>Traffic Signal Maintenance</td>\n",
       "      <td>TT_SignalMainDispatch</td>\n",
       "      <td>1</td>\n",
       "      <td>Closed</td>\n",
       "      <td>2018-01-01 00:38:05</td>\n",
       "      <td>-0.96</td>\n",
       "      <td>Voice In</td>\n",
       "    </tr>\n",
       "    <tr>\n",
       "      <th>2</th>\n",
       "      <td>NaN</td>\n",
       "      <td>K</td>\n",
       "      <td>SOUTH MAIN</td>\n",
       "      <td>NaN</td>\n",
       "      <td>PWE Public Works Engineering</td>\n",
       "      <td>PU Public Utilities</td>\n",
       "      <td>Water Leak</td>\n",
       "      <td>PU_Water</td>\n",
       "      <td>10</td>\n",
       "      <td>Closed</td>\n",
       "      <td>2018-01-01 00:41:49</td>\n",
       "      <td>-9.79</td>\n",
       "      <td>Voice In</td>\n",
       "    </tr>\n",
       "    <tr>\n",
       "      <th>3</th>\n",
       "      <td>HARRIS</td>\n",
       "      <td>B</td>\n",
       "      <td>GREATER FIFTH WARD</td>\n",
       "      <td>NaN</td>\n",
       "      <td>PWE Public Works Engineering</td>\n",
       "      <td>PU Public Utilities</td>\n",
       "      <td>Water Service</td>\n",
       "      <td>PU_Water</td>\n",
       "      <td>2</td>\n",
       "      <td>Closed</td>\n",
       "      <td>2018-01-01 00:45:07</td>\n",
       "      <td>-1.62</td>\n",
       "      <td>Voice In</td>\n",
       "    </tr>\n",
       "    <tr>\n",
       "      <th>4</th>\n",
       "      <td>FORT BEND</td>\n",
       "      <td>K</td>\n",
       "      <td>FORT BEND HOUSTON</td>\n",
       "      <td>NaN</td>\n",
       "      <td>PWE Public Works Engineering</td>\n",
       "      <td>PU Public Utilities</td>\n",
       "      <td>Water Main Valve</td>\n",
       "      <td>PU_Water</td>\n",
       "      <td>5</td>\n",
       "      <td>Closed</td>\n",
       "      <td>2018-01-01 00:51:20</td>\n",
       "      <td>-4.36</td>\n",
       "      <td>Voice In</td>\n",
       "    </tr>\n",
       "  </tbody>\n",
       "</table>\n",
       "</div>"
      ],
      "text/plain": [
       "      COUNTY  DISTRICT                    NEIGHBORHOOD  MANAGEMENT DISTRICT  \\\n",
       "0     COUNTY  DISTRICT                    NEIGHBORHOOD  MANAGEMENT DISTRICT   \n",
       "1        NaN         A  FAIRBANKS / NORTHWEST CROSSING     Spring Branch MD   \n",
       "2        NaN         K                      SOUTH MAIN                  NaN   \n",
       "3     HARRIS         B              GREATER FIFTH WARD                  NaN   \n",
       "4  FORT BEND         K               FORT BEND HOUSTON                  NaN   \n",
       "\n",
       "                     DEPARTMENT             DIVISION  \\\n",
       "0                    DEPARTMENT             DIVISION   \n",
       "1  PWE Public Works Engineering   Traffic Operations   \n",
       "2  PWE Public Works Engineering  PU Public Utilities   \n",
       "3  PWE Public Works Engineering  PU Public Utilities   \n",
       "4  PWE Public Works Engineering  PU Public Utilities   \n",
       "\n",
       "                      SR TYPE                  QUEUE  SLA  STATUS  \\\n",
       "0                     SR TYPE                  QUEUE  SLA  STATUS   \n",
       "1  Traffic Signal Maintenance  TT_SignalMainDispatch    1  Closed   \n",
       "2                  Water Leak               PU_Water   10  Closed   \n",
       "3               Water Service               PU_Water    2  Closed   \n",
       "4            Water Main Valve               PU_Water    5  Closed   \n",
       "\n",
       "        SR CREATE DATE  OVERDUE  CHANNEL TYPE  \n",
       "0       SR CREATE DATE  OVERDUE  Channel Type  \n",
       "1  2018-01-01 00:38:05    -0.96      Voice In  \n",
       "2  2018-01-01 00:41:49    -9.79      Voice In  \n",
       "3  2018-01-01 00:45:07    -1.62      Voice In  \n",
       "4  2018-01-01 00:51:20    -4.36      Voice In  "
      ]
     },
     "execution_count": 3,
     "metadata": {},
     "output_type": "execute_result"
    }
   ],
   "source": [
    "data = data.drop(columns=['SR LOCATION', 'CASE NUMBER', 'TRASH QUAD', 'RECYCLE QUAD', 'TRASH DAY', 'HEAVY TRASH DAY', 'RECYCLE DAY', 'TAX ID', 'KEY MAP', 'DUE DATE', 'DATE CLOSED', 'TITLE', 'x', 'y', 'LONGITUDE', 'LATITUDE'])\n",
    "print(data.shape)\n",
    "\n",
    "data.head()"
   ]
  },
  {
   "cell_type": "markdown",
   "metadata": {},
   "source": [
    "### Reasoning behind dropping the attributes we did\n",
    "\n",
    "SR Location - Same reasoning as case number.\n",
    "\n",
    "Case number - This was dropped because the case number is a unique identifier assigned to every 311 request, and thus could not be used to classify anything.\n",
    "\n",
    "Trash Quad - There are requests that are not related to trash collection. Those requests might be misclassified because they are in a different trash quad as other requests in the dataset.\n",
    "\n",
    "Recycle Quad - Same as Trash Quad\n",
    "\n",
    "Trash Day - Same as Trash Quad\n",
    "\n",
    "Recycle day - Same as Trash Quad\n",
    "\n",
    "Heavy Trash Day - Same as Trash Quad\n",
    " \n",
    "Tax ID - This ID is unique to the property that requested it.\n",
    " \n",
    "Key Map - This attribute is used in the cities internal system to keep track of requests and does not have any actual relation to the request\n",
    " \n",
    "Due Date - We are interested in predicting overdueness, and that it its own seperate column.\n",
    " \n",
    "Date Closed - Same reasoning as due date.\n",
    " \n",
    "Title - This is a another unique identifier assigned to every 311 request, and thus could not be used to classify anything.\n",
    " \n",
    "x - We already have latitude, and this attribute an approximation of latitude.\n",
    " \n",
    "y - We already have longitude, and this attribute an approximation of longitude.\n",
    "\n",
    "latitude - This is too speficific for our needs, and we have other location metrics.\n",
    " \n",
    "longitude - same as latitude"
   ]
  },
  {
   "cell_type": "markdown",
   "metadata": {},
   "source": [
    "## Data Cleaning"
   ]
  },
  {
   "cell_type": "markdown",
   "metadata": {},
   "source": [
    "Drop all service requests that are not closed"
   ]
  },
  {
   "cell_type": "code",
   "execution_count": 4,
   "metadata": {},
   "outputs": [
    {
     "name": "stdout",
     "output_type": "stream",
     "text": [
      "Number of rows dropped:  181\n"
     ]
    }
   ],
   "source": [
    "oldNumRows = data.shape[0]\n",
    "data = data[data.STATUS == 'Closed']\n",
    "data = data.drop([\"STATUS\"], axis=1)\n",
    "\n",
    "print(\"Number of rows dropped: \", oldNumRows - data.shape[0])"
   ]
  },
  {
   "cell_type": "markdown",
   "metadata": {},
   "source": [
    "Normalize all counties and drop rows where county is unknown"
   ]
  },
  {
   "cell_type": "code",
   "execution_count": 5,
   "metadata": {},
   "outputs": [
    {
     "name": "stdout",
     "output_type": "stream",
     "text": [
      "Counties:\n",
      "HARRIS               322110\n",
      "Harris County         36673\n",
      "FORT BEND              6868\n",
      "Unknown                3201\n",
      "Fort Bend County        379\n",
      "MONTGOMERY              185\n",
      "Montgomery County       120\n",
      "Galveston County         13\n",
      "Name: COUNTY, dtype: int64\n",
      "\n",
      "Counties:\n",
      "Harris County        358783\n",
      "Fort Bend County       7247\n",
      "Montgomery County       305\n",
      "Galveston County         13\n",
      "Name: COUNTY, dtype: int64\n",
      "\n",
      "Number of rows with COUNTY == 'Unknown' dropped:  3201\n"
     ]
    }
   ],
   "source": [
    "print('Counties:')\n",
    "print(data['COUNTY'].value_counts())\n",
    "print()\n",
    "\n",
    "oldNumRows = data.shape[0]\n",
    "data['COUNTY'] = data['COUNTY'].replace(['HARRIS', 'FORT BEND', 'MONTGOMERY'], ['Harris County', 'Fort Bend County', 'Montgomery County'])\n",
    "data = data[data.COUNTY != 'Unknown']\n",
    "\n",
    "print('Counties:')\n",
    "print(data['COUNTY'].value_counts())\n",
    "print()\n",
    "print(\"Number of rows with COUNTY == 'Unknown' dropped: \", oldNumRows - data.shape[0])"
   ]
  },
  {
   "cell_type": "markdown",
   "metadata": {},
   "source": [
    "Drop rows where district is unknown"
   ]
  },
  {
   "cell_type": "code",
   "execution_count": 6,
   "metadata": {},
   "outputs": [
    {
     "name": "stdout",
     "output_type": "stream",
     "text": [
      "Number of rows dropped:  552\n"
     ]
    }
   ],
   "source": [
    "oldNumRows = data.shape[0]\n",
    "data = data[data.DISTRICT != 'Unknown']\n",
    "\n",
    "print(\"Number of rows dropped: \", oldNumRows - data.shape[0])"
   ]
  },
  {
   "cell_type": "markdown",
   "metadata": {},
   "source": [
    "Normalize all districts"
   ]
  },
  {
   "cell_type": "code",
   "execution_count": 7,
   "metadata": {
    "scrolled": true
   },
   "outputs": [
    {
     "name": "stdout",
     "output_type": "stream",
     "text": [
      "Management Districts:\n",
      "Airline IMPROVEMENT DISTRICT                   23\n",
      "Airline PID                                     6\n",
      "Aldin North Expansion Tract2                    6\n",
      "Aldine North Expansion Tract1                  18\n",
      "Aldine PID                                    232\n",
      "Baybrook MD                                   110\n",
      "East Downtown MD                             1743\n",
      "East End                                    16767\n",
      "FB CAD #6                                       6\n",
      "Five Corners HCID #10B                      11645\n",
      "Five Corners Improvement Dist(HCID #10B)       59\n",
      "Greater Greenspoint MD                       1834\n",
      "Greater Northside MD                        32037\n",
      "Greater Southeast MD                        12224\n",
      "HCID #10-A                                  14007\n",
      "HCID #12                                        6\n",
      "HCID #16                                        4\n",
      "HCID #3 (Upper Kirby)                        1743\n",
      "HCID #4 (Energy Corridor)                     956\n",
      "HCID #5 (Brays Oaks)                         7245\n",
      "HCID #8                                         9\n",
      "HCID #9                                      8855\n",
      "HCRID #1                                       29\n",
      "Harris County PID#2                           285\n",
      "Houston Downtown                             4450\n",
      "International MD                             8258\n",
      "Lamar Terrace PID                               6\n",
      "Memorial City MD                              196\n",
      "Midtown MD                                   3108\n",
      "Montrose Management District                10778\n",
      "Near Northwest MD                            7007\n",
      "Propose Memorial Management District           47\n",
      "Proposed Memorial City                        164\n",
      "SAINT GEORGE PLACE MD                         338\n",
      "Sharpstown MD                                8105\n",
      "Spring Branch MD                            17008\n",
      "UPTOWN MD HCID #1                             190\n",
      "Upper Kirby PID                                 5\n",
      "Uptown Houston MD                            1005\n",
      "West Montrose                                  51\n",
      "Westchase MD                                 1807\n",
      "Name: MANAGEMENT DISTRICT, dtype: int64\n"
     ]
    }
   ],
   "source": [
    "data['MANAGEMENT DISTRICT'] = data['MANAGEMENT DISTRICT'].replace(['HCID #3 TRACT 19 (Upper Kirby)', 'HCID #3 TRACT 47 (Upper Kirby)', 'East End MD', 'Greater Northside', 'Sharpstown'], ['HCID #3 (Upper Kirby)', 'HCID #3 (Upper Kirby)', 'East End', 'Greater Northside MD', 'Sharpstown MD'])\n",
    "print('Management Districts:')\n",
    "print(data['MANAGEMENT DISTRICT'].value_counts().sort_index())"
   ]
  },
  {
   "cell_type": "markdown",
   "metadata": {},
   "source": [
    "Drop all rows with unknown channel types"
   ]
  },
  {
   "cell_type": "code",
   "execution_count": 8,
   "metadata": {},
   "outputs": [
    {
     "name": "stdout",
     "output_type": "stream",
     "text": [
      "Number of rows dropped:  20590\n"
     ]
    }
   ],
   "source": [
    "oldNumRows = data.shape[0]\n",
    "data = data[data['CHANNEL TYPE'] != 'Unknown']\n",
    "\n",
    "print(\"Number of rows dropped: \", oldNumRows - data.shape[0])"
   ]
  },
  {
   "cell_type": "markdown",
   "metadata": {},
   "source": [
    "Drop all rows with null values"
   ]
  },
  {
   "cell_type": "code",
   "execution_count": 9,
   "metadata": {},
   "outputs": [
    {
     "name": "stdout",
     "output_type": "stream",
     "text": [
      "Number of rows dropped:  226480\n"
     ]
    }
   ],
   "source": [
    "oldNumRows = data.shape[0]\n",
    "data = data.dropna()\n",
    "\n",
    "print(\"Number of rows dropped: \", oldNumRows - data.shape[0])"
   ]
  },
  {
   "cell_type": "markdown",
   "metadata": {},
   "source": [
    "## Feature Transformation"
   ]
  },
  {
   "cell_type": "markdown",
   "metadata": {},
   "source": [
    "Currently, the request date would be draw conclusions from, so we transformed the feature to instead be the month in which the service request was created, to account seasonal differences in service request time."
   ]
  },
  {
   "cell_type": "code",
   "execution_count": 10,
   "metadata": {},
   "outputs": [
    {
     "data": {
      "text/html": [
       "<div>\n",
       "<style scoped>\n",
       "    .dataframe tbody tr th:only-of-type {\n",
       "        vertical-align: middle;\n",
       "    }\n",
       "\n",
       "    .dataframe tbody tr th {\n",
       "        vertical-align: top;\n",
       "    }\n",
       "\n",
       "    .dataframe thead th {\n",
       "        text-align: right;\n",
       "    }\n",
       "</style>\n",
       "<table border=\"1\" class=\"dataframe\">\n",
       "  <thead>\n",
       "    <tr style=\"text-align: right;\">\n",
       "      <th></th>\n",
       "      <th>COUNTY</th>\n",
       "      <th>DISTRICT</th>\n",
       "      <th>NEIGHBORHOOD</th>\n",
       "      <th>MANAGEMENT DISTRICT</th>\n",
       "      <th>DEPARTMENT</th>\n",
       "      <th>DIVISION</th>\n",
       "      <th>SR TYPE</th>\n",
       "      <th>QUEUE</th>\n",
       "      <th>SLA</th>\n",
       "      <th>SR MONTH</th>\n",
       "      <th>OVERDUE</th>\n",
       "      <th>CHANNEL TYPE</th>\n",
       "    </tr>\n",
       "  </thead>\n",
       "  <tbody>\n",
       "    <tr>\n",
       "      <th>10</th>\n",
       "      <td>Harris County</td>\n",
       "      <td>I</td>\n",
       "      <td>GREATER HOBBY AREA</td>\n",
       "      <td>HCID #9</td>\n",
       "      <td>PWE Public Works Engineering</td>\n",
       "      <td>Street and Drainage</td>\n",
       "      <td>Street Hazard</td>\n",
       "      <td>ROWM_StreetMain</td>\n",
       "      <td>10</td>\n",
       "      <td>January</td>\n",
       "      <td>-8.83</td>\n",
       "      <td>Voice In</td>\n",
       "    </tr>\n",
       "    <tr>\n",
       "      <th>16</th>\n",
       "      <td>Harris County</td>\n",
       "      <td>D</td>\n",
       "      <td>SUNNYSIDE</td>\n",
       "      <td>Five Corners HCID #10B</td>\n",
       "      <td>NS Neighborhood Services</td>\n",
       "      <td>Investigations</td>\n",
       "      <td>Nuisance On Property</td>\n",
       "      <td>NS_Dispatch</td>\n",
       "      <td>180</td>\n",
       "      <td>January</td>\n",
       "      <td>134.19</td>\n",
       "      <td>Voice In</td>\n",
       "    </tr>\n",
       "    <tr>\n",
       "      <th>17</th>\n",
       "      <td>Harris County</td>\n",
       "      <td>A</td>\n",
       "      <td>SPRING BRANCH NORTH</td>\n",
       "      <td>Spring Branch MD</td>\n",
       "      <td>SWM Solid Waste Management</td>\n",
       "      <td>General Support Services</td>\n",
       "      <td>Dumpster Complaint</td>\n",
       "      <td>SWM_Complaints</td>\n",
       "      <td>21</td>\n",
       "      <td>January</td>\n",
       "      <td>-0.70</td>\n",
       "      <td>Voice In</td>\n",
       "    </tr>\n",
       "    <tr>\n",
       "      <th>20</th>\n",
       "      <td>Harris County</td>\n",
       "      <td>J</td>\n",
       "      <td>SHARPSTOWN</td>\n",
       "      <td>Sharpstown MD</td>\n",
       "      <td>PWE Public Works Engineering</td>\n",
       "      <td>PU Public Utilities</td>\n",
       "      <td>Sewer Wastewater</td>\n",
       "      <td>PU_WasteWater</td>\n",
       "      <td>1</td>\n",
       "      <td>January</td>\n",
       "      <td>-0.96</td>\n",
       "      <td>Voice In</td>\n",
       "    </tr>\n",
       "    <tr>\n",
       "      <th>22</th>\n",
       "      <td>Harris County</td>\n",
       "      <td>F</td>\n",
       "      <td>ALIEF</td>\n",
       "      <td>International MD</td>\n",
       "      <td>SWM Solid Waste Management</td>\n",
       "      <td>Collections</td>\n",
       "      <td>Container Problem</td>\n",
       "      <td>SWM_CollectionsSW</td>\n",
       "      <td>10</td>\n",
       "      <td>January</td>\n",
       "      <td>-7.64</td>\n",
       "      <td>Voice In</td>\n",
       "    </tr>\n",
       "  </tbody>\n",
       "</table>\n",
       "</div>"
      ],
      "text/plain": [
       "           COUNTY DISTRICT         NEIGHBORHOOD     MANAGEMENT DISTRICT  \\\n",
       "10  Harris County        I   GREATER HOBBY AREA                 HCID #9   \n",
       "16  Harris County        D            SUNNYSIDE  Five Corners HCID #10B   \n",
       "17  Harris County        A  SPRING BRANCH NORTH        Spring Branch MD   \n",
       "20  Harris County        J           SHARPSTOWN           Sharpstown MD   \n",
       "22  Harris County        F                ALIEF        International MD   \n",
       "\n",
       "                      DEPARTMENT                  DIVISION  \\\n",
       "10  PWE Public Works Engineering       Street and Drainage   \n",
       "16      NS Neighborhood Services            Investigations   \n",
       "17    SWM Solid Waste Management  General Support Services   \n",
       "20  PWE Public Works Engineering       PU Public Utilities   \n",
       "22    SWM Solid Waste Management               Collections   \n",
       "\n",
       "                 SR TYPE              QUEUE  SLA SR MONTH OVERDUE CHANNEL TYPE  \n",
       "10         Street Hazard    ROWM_StreetMain   10  January   -8.83     Voice In  \n",
       "16  Nuisance On Property        NS_Dispatch  180  January  134.19     Voice In  \n",
       "17    Dumpster Complaint     SWM_Complaints   21  January   -0.70     Voice In  \n",
       "20      Sewer Wastewater      PU_WasteWater    1  January   -0.96     Voice In  \n",
       "22     Container Problem  SWM_CollectionsSW   10  January   -7.64     Voice In  "
      ]
     },
     "execution_count": 10,
     "metadata": {},
     "output_type": "execute_result"
    }
   ],
   "source": [
    "months = ['January', 'February', 'March', 'April', 'May', 'June', 'July', 'August', 'September', 'October', 'November', 'December']\n",
    "data['SR CREATE DATE'] = data['SR CREATE DATE'].apply(lambda x : datetime.datetime.strptime(x, '%Y-%m-%d %H:%M:%S'))\n",
    "data['SR CREATE DATE'] = data['SR CREATE DATE'].apply(lambda x : months[x.month-1])\n",
    "\n",
    "data = data.rename(columns={'SR CREATE DATE': 'SR MONTH'})\n",
    "data.head()"
   ]
  },
  {
   "cell_type": "markdown",
   "metadata": {},
   "source": [
    "Currently, the overdue is continuous, which makes it hard to use in classification algorithms. To combat this, we want to bin the values, so that there are only a few possible values.\n",
    "\n",
    "The values we want bin into are on time tasks (negative values), tasks done within a week past due date (0 < x < 7), tasks done within a month past due date (7 <= x < 30), tasks done over a month past due date (x >= 30)."
   ]
  },
  {
   "cell_type": "code",
   "execution_count": 11,
   "metadata": {},
   "outputs": [
    {
     "name": "stdout",
     "output_type": "stream",
     "text": [
      "Month       14171\n",
      "More         9399\n",
      "On Time    107013\n",
      "Week        18366\n",
      "Name: OVERDUE, dtype: int64\n"
     ]
    },
    {
     "data": {
      "text/html": [
       "<div>\n",
       "<style scoped>\n",
       "    .dataframe tbody tr th:only-of-type {\n",
       "        vertical-align: middle;\n",
       "    }\n",
       "\n",
       "    .dataframe tbody tr th {\n",
       "        vertical-align: top;\n",
       "    }\n",
       "\n",
       "    .dataframe thead th {\n",
       "        text-align: right;\n",
       "    }\n",
       "</style>\n",
       "<table border=\"1\" class=\"dataframe\">\n",
       "  <thead>\n",
       "    <tr style=\"text-align: right;\">\n",
       "      <th></th>\n",
       "      <th>COUNTY</th>\n",
       "      <th>DISTRICT</th>\n",
       "      <th>NEIGHBORHOOD</th>\n",
       "      <th>MANAGEMENT DISTRICT</th>\n",
       "      <th>DEPARTMENT</th>\n",
       "      <th>DIVISION</th>\n",
       "      <th>SR TYPE</th>\n",
       "      <th>QUEUE</th>\n",
       "      <th>SLA</th>\n",
       "      <th>SR MONTH</th>\n",
       "      <th>OVERDUE</th>\n",
       "      <th>CHANNEL TYPE</th>\n",
       "    </tr>\n",
       "  </thead>\n",
       "  <tbody>\n",
       "    <tr>\n",
       "      <th>10</th>\n",
       "      <td>Harris County</td>\n",
       "      <td>I</td>\n",
       "      <td>GREATER HOBBY AREA</td>\n",
       "      <td>HCID #9</td>\n",
       "      <td>PWE Public Works Engineering</td>\n",
       "      <td>Street and Drainage</td>\n",
       "      <td>Street Hazard</td>\n",
       "      <td>ROWM_StreetMain</td>\n",
       "      <td>10</td>\n",
       "      <td>January</td>\n",
       "      <td>On Time</td>\n",
       "      <td>Voice In</td>\n",
       "    </tr>\n",
       "    <tr>\n",
       "      <th>16</th>\n",
       "      <td>Harris County</td>\n",
       "      <td>D</td>\n",
       "      <td>SUNNYSIDE</td>\n",
       "      <td>Five Corners HCID #10B</td>\n",
       "      <td>NS Neighborhood Services</td>\n",
       "      <td>Investigations</td>\n",
       "      <td>Nuisance On Property</td>\n",
       "      <td>NS_Dispatch</td>\n",
       "      <td>180</td>\n",
       "      <td>January</td>\n",
       "      <td>More</td>\n",
       "      <td>Voice In</td>\n",
       "    </tr>\n",
       "    <tr>\n",
       "      <th>17</th>\n",
       "      <td>Harris County</td>\n",
       "      <td>A</td>\n",
       "      <td>SPRING BRANCH NORTH</td>\n",
       "      <td>Spring Branch MD</td>\n",
       "      <td>SWM Solid Waste Management</td>\n",
       "      <td>General Support Services</td>\n",
       "      <td>Dumpster Complaint</td>\n",
       "      <td>SWM_Complaints</td>\n",
       "      <td>21</td>\n",
       "      <td>January</td>\n",
       "      <td>On Time</td>\n",
       "      <td>Voice In</td>\n",
       "    </tr>\n",
       "    <tr>\n",
       "      <th>20</th>\n",
       "      <td>Harris County</td>\n",
       "      <td>J</td>\n",
       "      <td>SHARPSTOWN</td>\n",
       "      <td>Sharpstown MD</td>\n",
       "      <td>PWE Public Works Engineering</td>\n",
       "      <td>PU Public Utilities</td>\n",
       "      <td>Sewer Wastewater</td>\n",
       "      <td>PU_WasteWater</td>\n",
       "      <td>1</td>\n",
       "      <td>January</td>\n",
       "      <td>On Time</td>\n",
       "      <td>Voice In</td>\n",
       "    </tr>\n",
       "    <tr>\n",
       "      <th>22</th>\n",
       "      <td>Harris County</td>\n",
       "      <td>F</td>\n",
       "      <td>ALIEF</td>\n",
       "      <td>International MD</td>\n",
       "      <td>SWM Solid Waste Management</td>\n",
       "      <td>Collections</td>\n",
       "      <td>Container Problem</td>\n",
       "      <td>SWM_CollectionsSW</td>\n",
       "      <td>10</td>\n",
       "      <td>January</td>\n",
       "      <td>On Time</td>\n",
       "      <td>Voice In</td>\n",
       "    </tr>\n",
       "  </tbody>\n",
       "</table>\n",
       "</div>"
      ],
      "text/plain": [
       "           COUNTY DISTRICT         NEIGHBORHOOD     MANAGEMENT DISTRICT  \\\n",
       "10  Harris County        I   GREATER HOBBY AREA                 HCID #9   \n",
       "16  Harris County        D            SUNNYSIDE  Five Corners HCID #10B   \n",
       "17  Harris County        A  SPRING BRANCH NORTH        Spring Branch MD   \n",
       "20  Harris County        J           SHARPSTOWN           Sharpstown MD   \n",
       "22  Harris County        F                ALIEF        International MD   \n",
       "\n",
       "                      DEPARTMENT                  DIVISION  \\\n",
       "10  PWE Public Works Engineering       Street and Drainage   \n",
       "16      NS Neighborhood Services            Investigations   \n",
       "17    SWM Solid Waste Management  General Support Services   \n",
       "20  PWE Public Works Engineering       PU Public Utilities   \n",
       "22    SWM Solid Waste Management               Collections   \n",
       "\n",
       "                 SR TYPE              QUEUE  SLA SR MONTH  OVERDUE  \\\n",
       "10         Street Hazard    ROWM_StreetMain   10  January  On Time   \n",
       "16  Nuisance On Property        NS_Dispatch  180  January     More   \n",
       "17    Dumpster Complaint     SWM_Complaints   21  January  On Time   \n",
       "20      Sewer Wastewater      PU_WasteWater    1  January  On Time   \n",
       "22     Container Problem  SWM_CollectionsSW   10  January  On Time   \n",
       "\n",
       "   CHANNEL TYPE  \n",
       "10     Voice In  \n",
       "16     Voice In  \n",
       "17     Voice In  \n",
       "20     Voice In  \n",
       "22     Voice In  "
      ]
     },
     "execution_count": 11,
     "metadata": {},
     "output_type": "execute_result"
    }
   ],
   "source": [
    "def bin_overdue (val):\n",
    "    val = float(val)\n",
    "    \n",
    "    if val < 0:\n",
    "        return \"On Time\"\n",
    "    elif val < 7:\n",
    "        return \"Week\"\n",
    "    elif val < 30:\n",
    "        return \"Month\"\n",
    "    else:\n",
    "        return \"More\"\n",
    "    \n",
    "data[\"OVERDUE\"] = data[\"OVERDUE\"].apply(bin_overdue)\n",
    "    \n",
    "print(data['OVERDUE'].value_counts().sort_index())\n",
    "data.head()"
   ]
  },
  {
   "cell_type": "markdown",
   "metadata": {},
   "source": [
    "## Export data to a CSV"
   ]
  },
  {
   "cell_type": "code",
   "execution_count": 12,
   "metadata": {},
   "outputs": [],
   "source": [
    "data.to_csv('houston-311-sanitized.csv', index=False)"
   ]
  },
  {
   "cell_type": "markdown",
   "metadata": {},
   "source": [
    "## Read in Sanitized Data"
   ]
  },
  {
   "cell_type": "code",
   "execution_count": 13,
   "metadata": {
    "scrolled": true
   },
   "outputs": [
    {
     "name": "stdout",
     "output_type": "stream",
     "text": [
      "(148949, 12)\n"
     ]
    },
    {
     "data": {
      "text/html": [
       "<div>\n",
       "<style scoped>\n",
       "    .dataframe tbody tr th:only-of-type {\n",
       "        vertical-align: middle;\n",
       "    }\n",
       "\n",
       "    .dataframe tbody tr th {\n",
       "        vertical-align: top;\n",
       "    }\n",
       "\n",
       "    .dataframe thead th {\n",
       "        text-align: right;\n",
       "    }\n",
       "</style>\n",
       "<table border=\"1\" class=\"dataframe\">\n",
       "  <thead>\n",
       "    <tr style=\"text-align: right;\">\n",
       "      <th></th>\n",
       "      <th>COUNTY</th>\n",
       "      <th>DISTRICT</th>\n",
       "      <th>NEIGHBORHOOD</th>\n",
       "      <th>MANAGEMENT DISTRICT</th>\n",
       "      <th>DEPARTMENT</th>\n",
       "      <th>DIVISION</th>\n",
       "      <th>SR TYPE</th>\n",
       "      <th>QUEUE</th>\n",
       "      <th>SLA</th>\n",
       "      <th>SR MONTH</th>\n",
       "      <th>OVERDUE</th>\n",
       "      <th>CHANNEL TYPE</th>\n",
       "    </tr>\n",
       "  </thead>\n",
       "  <tbody>\n",
       "    <tr>\n",
       "      <th>0</th>\n",
       "      <td>Harris County</td>\n",
       "      <td>I</td>\n",
       "      <td>GREATER HOBBY AREA</td>\n",
       "      <td>HCID #9</td>\n",
       "      <td>PWE Public Works Engineering</td>\n",
       "      <td>Street and Drainage</td>\n",
       "      <td>Street Hazard</td>\n",
       "      <td>ROWM_StreetMain</td>\n",
       "      <td>10.0</td>\n",
       "      <td>January</td>\n",
       "      <td>On Time</td>\n",
       "      <td>Voice In</td>\n",
       "    </tr>\n",
       "    <tr>\n",
       "      <th>1</th>\n",
       "      <td>Harris County</td>\n",
       "      <td>D</td>\n",
       "      <td>SUNNYSIDE</td>\n",
       "      <td>Five Corners HCID #10B</td>\n",
       "      <td>NS Neighborhood Services</td>\n",
       "      <td>Investigations</td>\n",
       "      <td>Nuisance On Property</td>\n",
       "      <td>NS_Dispatch</td>\n",
       "      <td>180.0</td>\n",
       "      <td>January</td>\n",
       "      <td>More</td>\n",
       "      <td>Voice In</td>\n",
       "    </tr>\n",
       "    <tr>\n",
       "      <th>2</th>\n",
       "      <td>Harris County</td>\n",
       "      <td>A</td>\n",
       "      <td>SPRING BRANCH NORTH</td>\n",
       "      <td>Spring Branch MD</td>\n",
       "      <td>SWM Solid Waste Management</td>\n",
       "      <td>General Support Services</td>\n",
       "      <td>Dumpster Complaint</td>\n",
       "      <td>SWM_Complaints</td>\n",
       "      <td>21.0</td>\n",
       "      <td>January</td>\n",
       "      <td>On Time</td>\n",
       "      <td>Voice In</td>\n",
       "    </tr>\n",
       "    <tr>\n",
       "      <th>3</th>\n",
       "      <td>Harris County</td>\n",
       "      <td>J</td>\n",
       "      <td>SHARPSTOWN</td>\n",
       "      <td>Sharpstown MD</td>\n",
       "      <td>PWE Public Works Engineering</td>\n",
       "      <td>PU Public Utilities</td>\n",
       "      <td>Sewer Wastewater</td>\n",
       "      <td>PU_WasteWater</td>\n",
       "      <td>1.0</td>\n",
       "      <td>January</td>\n",
       "      <td>On Time</td>\n",
       "      <td>Voice In</td>\n",
       "    </tr>\n",
       "    <tr>\n",
       "      <th>4</th>\n",
       "      <td>Harris County</td>\n",
       "      <td>F</td>\n",
       "      <td>ALIEF</td>\n",
       "      <td>International MD</td>\n",
       "      <td>SWM Solid Waste Management</td>\n",
       "      <td>Collections</td>\n",
       "      <td>Container Problem</td>\n",
       "      <td>SWM_CollectionsSW</td>\n",
       "      <td>10.0</td>\n",
       "      <td>January</td>\n",
       "      <td>On Time</td>\n",
       "      <td>Voice In</td>\n",
       "    </tr>\n",
       "  </tbody>\n",
       "</table>\n",
       "</div>"
      ],
      "text/plain": [
       "          COUNTY DISTRICT         NEIGHBORHOOD     MANAGEMENT DISTRICT  \\\n",
       "0  Harris County        I   GREATER HOBBY AREA                 HCID #9   \n",
       "1  Harris County        D            SUNNYSIDE  Five Corners HCID #10B   \n",
       "2  Harris County        A  SPRING BRANCH NORTH        Spring Branch MD   \n",
       "3  Harris County        J           SHARPSTOWN           Sharpstown MD   \n",
       "4  Harris County        F                ALIEF        International MD   \n",
       "\n",
       "                     DEPARTMENT                  DIVISION  \\\n",
       "0  PWE Public Works Engineering       Street and Drainage   \n",
       "1      NS Neighborhood Services            Investigations   \n",
       "2    SWM Solid Waste Management  General Support Services   \n",
       "3  PWE Public Works Engineering       PU Public Utilities   \n",
       "4    SWM Solid Waste Management               Collections   \n",
       "\n",
       "                SR TYPE              QUEUE    SLA SR MONTH  OVERDUE  \\\n",
       "0         Street Hazard    ROWM_StreetMain   10.0  January  On Time   \n",
       "1  Nuisance On Property        NS_Dispatch  180.0  January     More   \n",
       "2    Dumpster Complaint     SWM_Complaints   21.0  January  On Time   \n",
       "3      Sewer Wastewater      PU_WasteWater    1.0  January  On Time   \n",
       "4     Container Problem  SWM_CollectionsSW   10.0  January  On Time   \n",
       "\n",
       "  CHANNEL TYPE  \n",
       "0     Voice In  \n",
       "1     Voice In  \n",
       "2     Voice In  \n",
       "3     Voice In  \n",
       "4     Voice In  "
      ]
     },
     "execution_count": 13,
     "metadata": {},
     "output_type": "execute_result"
    }
   ],
   "source": [
    "data = pd.read_csv('houston-311-sanitized.csv', sep=\",\", header='infer')\n",
    "print(data.shape)\n",
    "data.head()"
   ]
  },
  {
   "cell_type": "markdown",
   "metadata": {},
   "source": [
    "## Prep the data for modeling\n",
    "\n",
    "Split the data into features and labels. The label is the overdueness of the 311 request, which we binned earlier.\n",
    "\n",
    "Because of the way that sklearn handles catagorical data, we had to encode all of the features so that they could be processed correctly.\n",
    "\n",
    "Also, we downsample the data so that the models will run quicker. We use `train_test_split` here to ensure that the downsampling is down without affecting the class balance."
   ]
  },
  {
   "cell_type": "code",
   "execution_count": 14,
   "metadata": {},
   "outputs": [
    {
     "name": "stdout",
     "output_type": "stream",
     "text": [
      "   COUNTY  DISTRICT  NEIGHBORHOOD  MANAGEMENT DISTRICT  DEPARTMENT  DIVISION  \\\n",
      "0       1         8            28                   16          14        27   \n",
      "1       1         3            70                    4          11        16   \n",
      "2       1         0            68                   30          15        13   \n",
      "3       1         9            61                   29          14        21   \n",
      "4       1         5             3                   20          15         1   \n",
      "\n",
      "   SR TYPE  QUEUE    SLA  SR MONTH  OVERDUE  CHANNEL TYPE  \n",
      "0      115     60   10.0         4  On Time             4  \n",
      "1       80     35  180.0         4     More             4  \n",
      "2       26     67   21.0         4  On Time             4  \n",
      "3      108     53    1.0         4  On Time             4  \n",
      "4       17     65   10.0         4  On Time             4  \n"
     ]
    }
   ],
   "source": [
    "num_data = data.copy()\n",
    "cat_columns = [\"COUNTY\", \"DISTRICT\", \"NEIGHBORHOOD\", \"MANAGEMENT DISTRICT\", \"DEPARTMENT\", \"DIVISION\",\n",
    "              \"SR TYPE\", \"QUEUE\", \"SR MONTH\", \"CHANNEL TYPE\"]\n",
    "\n",
    "for c in cat_columns:\n",
    "    prev_column = num_data[c]\n",
    "    # Transform catagorical data to one that sklearn can understand\n",
    "    encoder = preprocessing.LabelEncoder()\n",
    "    num_data[c] = encoder.fit_transform(prev_column)\n",
    "\n",
    "print(num_data.head())\n",
    "train, test = train_test_split(num_data, train_size = 0.005, test_size = 0.005)"
   ]
  },
  {
   "cell_type": "code",
   "execution_count": 15,
   "metadata": {
    "scrolled": true
   },
   "outputs": [
    {
     "name": "stdout",
     "output_type": "stream",
     "text": [
      "Month       58\n",
      "More        52\n",
      "On Time    537\n",
      "Week        97\n",
      "Name: OVERDUE, dtype: int64\n"
     ]
    }
   ],
   "source": [
    "down_data = train\n",
    "\n",
    "labels = down_data['OVERDUE']\n",
    "df_features = down_data.drop(['OVERDUE'], axis=1)\n",
    "print(labels.value_counts().sort_index())"
   ]
  },
  {
   "cell_type": "markdown",
   "metadata": {},
   "source": [
    "## Decision Trees"
   ]
  },
  {
   "cell_type": "code",
   "execution_count": 16,
   "metadata": {},
   "outputs": [
    {
     "name": "stdout",
     "output_type": "stream",
     "text": [
      "Training set size: 595\n",
      "Test set size:     149\n",
      "Accuracy of decision tree classifier: 0.5503355704697986\n"
     ]
    }
   ],
   "source": [
    "features_train, features_test, labels_train, labels_test = train_test_split(df_features, labels, test_size = 0.2)\n",
    "print('Training set size:',len(labels_train))\n",
    "print('Test set size:    ',len(labels_test))\n",
    "dt = Pipeline(steps=[('smt',SMOTE()),('dt',tree.DecisionTreeClassifier())])\n",
    "dtt = dt.fit(features_train, labels_train)\n",
    "predict_labels_test = dtt.predict(features_test)\n",
    "print('Accuracy of decision tree classifier:',accuracy_score(labels_test, predict_labels_test))"
   ]
  },
  {
   "cell_type": "code",
   "execution_count": 17,
   "metadata": {},
   "outputs": [
    {
     "name": "stdout",
     "output_type": "stream",
     "text": [
      "Confusion matrix:\n",
      " [[ 15   9  23  11]\n",
      " [ 11  24  15   2]\n",
      " [ 37  29 405  66]\n",
      " [ 16   3  50  28]]\n",
      "\n",
      "Classification report:\n",
      "               precision    recall  f1-score   support\n",
      "\n",
      "       Month       0.19      0.26      0.22        58\n",
      "        More       0.37      0.46      0.41        52\n",
      "     On Time       0.82      0.75      0.79       537\n",
      "        Week       0.26      0.29      0.27        97\n",
      "\n",
      "    accuracy                           0.63       744\n",
      "   macro avg       0.41      0.44      0.42       744\n",
      "weighted avg       0.67      0.63      0.65       744\n",
      "\n"
     ]
    }
   ],
   "source": [
    "predicted_labels = cross_val_predict(dt,df_features,labels,cv=5)\n",
    "print('Confusion matrix:\\n',confusion_matrix(labels, predicted_labels))\n",
    "print('\\nClassification report:\\n',classification_report(labels, predicted_labels))"
   ]
  },
  {
   "cell_type": "markdown",
   "metadata": {},
   "source": [
    "## Support Vector Machines (SVM)"
   ]
  },
  {
   "cell_type": "code",
   "execution_count": 18,
   "metadata": {},
   "outputs": [
    {
     "name": "stdout",
     "output_type": "stream",
     "text": [
      "Official accuracy: 0.558167648659607\n"
     ]
    }
   ],
   "source": [
    "svm = Pipeline(steps=[('scaler',StandardScaler()),('smt',SMOTE()),('reduce_dim',PCA()),('clf',SVC(gamma='scale'))])\n",
    "param_grid = {\n",
    "    'clf__kernel':('linear','rbf','poly')\n",
    "}\n",
    "pipedsvm = GridSearchCV(svm,param_grid,cv=5,scoring='accuracy', iid=True)\n",
    "accuracies = cross_val_score(pipedsvm.fit(df_features,labels), df_features, labels, cv=5)\n",
    "print('Official accuracy:',np.mean(accuracies))"
   ]
  },
  {
   "cell_type": "code",
   "execution_count": 19,
   "metadata": {},
   "outputs": [
    {
     "name": "stdout",
     "output_type": "stream",
     "text": [
      "Confusion matrix:\n",
      " [[ 21  14  11  12]\n",
      " [ 11  24  10   7]\n",
      " [ 76  44 326  91]\n",
      " [ 25  10  25  37]]\n",
      "\n",
      "Classification report:\n",
      "               precision    recall  f1-score   support\n",
      "\n",
      "       Month       0.16      0.36      0.22        58\n",
      "        More       0.26      0.46      0.33        52\n",
      "     On Time       0.88      0.61      0.72       537\n",
      "        Week       0.25      0.38      0.30        97\n",
      "\n",
      "    accuracy                           0.55       744\n",
      "   macro avg       0.39      0.45      0.39       744\n",
      "weighted avg       0.70      0.55      0.60       744\n",
      "\n"
     ]
    }
   ],
   "source": [
    "predicted_labels = cross_val_predict(pipedsvm,df_features,labels,cv=5)\n",
    "print('Confusion matrix:\\n',confusion_matrix(labels, predicted_labels))\n",
    "print('\\nClassification report:\\n',classification_report(labels, predicted_labels))"
   ]
  },
  {
   "cell_type": "markdown",
   "metadata": {},
   "source": [
    "## Neural Networks (NN)"
   ]
  },
  {
   "cell_type": "code",
   "execution_count": 20,
   "metadata": {},
   "outputs": [
    {
     "name": "stdout",
     "output_type": "stream",
     "text": [
      "Official accuracy: 0.5500043833534847\n"
     ]
    }
   ],
   "source": [
    "from sklearn.neural_network import MLPClassifier\n",
    "nn = Pipeline(steps=[('scaler',StandardScaler()),('smt',SMOTE()),('clf',MLPClassifier())])\n",
    "param_grid = {\n",
    "    'clf__hidden_layer_sizes':((50,),(60,)),\n",
    "    'clf__activation':('logistic','tanh','relu')\n",
    "}\n",
    "pipednn = GridSearchCV(nn,param_grid,cv=5,scoring='accuracy', iid=True)\n",
    "accuracies = cross_val_score(pipednn.fit(df_features,labels), df_features, labels, cv=5)\n",
    "print('Official accuracy:',np.mean(accuracies))"
   ]
  },
  {
   "cell_type": "code",
   "execution_count": 21,
   "metadata": {},
   "outputs": [
    {
     "name": "stdout",
     "output_type": "stream",
     "text": [
      "Confusion matrix:\n",
      " [[ 16  12  11  19]\n",
      " [ 12  23   9   8]\n",
      " [ 67  34 340  96]\n",
      " [ 21   9  27  40]]\n",
      "\n",
      "Classification report:\n",
      "               precision    recall  f1-score   support\n",
      "\n",
      "       Month       0.14      0.28      0.18        58\n",
      "        More       0.29      0.44      0.35        52\n",
      "     On Time       0.88      0.63      0.74       537\n",
      "        Week       0.25      0.41      0.31        97\n",
      "\n",
      "    accuracy                           0.56       744\n",
      "   macro avg       0.39      0.44      0.40       744\n",
      "weighted avg       0.70      0.56      0.61       744\n",
      "\n"
     ]
    }
   ],
   "source": [
    "predicted_labels = cross_val_predict(pipednn,df_features,labels,cv=5)\n",
    "print('Confusion matrix:\\n',confusion_matrix(labels, predicted_labels))\n",
    "print('\\nClassification report:\\n',classification_report(labels, predicted_labels))"
   ]
  },
  {
   "cell_type": "markdown",
   "metadata": {},
   "source": [
    "## k-Nearest Neighbor (KNN)"
   ]
  },
  {
   "cell_type": "code",
   "execution_count": 22,
   "metadata": {},
   "outputs": [
    {
     "name": "stdout",
     "output_type": "stream",
     "text": [
      "Average accuracy: 0.6023977552359767\n"
     ]
    }
   ],
   "source": [
    "from sklearn.neighbors import KNeighborsClassifier\n",
    "param_grid = {\n",
    "    'knn__n_neighbors': list(range(1, 25))\n",
    "}\n",
    "knn = Pipeline(steps=[('scaler', StandardScaler()),('smt',SMOTE()),('pca', PCA()), ('knn',KNeighborsClassifier(n_neighbors=7))])\n",
    "pipedknn = GridSearchCV(knn,param_grid,cv=5,scoring='accuracy', iid=True)\n",
    "accuracies = cross_val_score(pipedknn.fit(df_features,labels), df_features, labels, cv=5)\n",
    "print('Average accuracy:',np.mean(accuracies))"
   ]
  },
  {
   "cell_type": "code",
   "execution_count": 23,
   "metadata": {},
   "outputs": [
    {
     "name": "stdout",
     "output_type": "stream",
     "text": [
      "Confusion matrix:\n",
      " [[ 10   8  25  15]\n",
      " [ 11  16  21   4]\n",
      " [ 41  34 384  78]\n",
      " [ 11  10  41  35]]\n",
      "\n",
      "Classification report:\n",
      "               precision    recall  f1-score   support\n",
      "\n",
      "       Month       0.14      0.17      0.15        58\n",
      "        More       0.24      0.31      0.27        52\n",
      "     On Time       0.82      0.72      0.76       537\n",
      "        Week       0.27      0.36      0.31        97\n",
      "\n",
      "    accuracy                           0.60       744\n",
      "   macro avg       0.36      0.39      0.37       744\n",
      "weighted avg       0.65      0.60      0.62       744\n",
      "\n"
     ]
    }
   ],
   "source": [
    "predicted_labels = cross_val_predict(pipedknn,df_features,labels,cv=5)\n",
    "print('Confusion matrix:\\n',confusion_matrix(labels, predicted_labels))\n",
    "print('\\nClassification report:\\n',classification_report(labels, predicted_labels))"
   ]
  },
  {
   "cell_type": "markdown",
   "metadata": {},
   "source": [
    "## Naive Bayes\n",
    "Naive Bayes is not a good option for this dataset due to correlation between attributes. For example, requests from the same neighborhood would be from the same county."
   ]
  },
  {
   "cell_type": "code",
   "execution_count": 24,
   "metadata": {},
   "outputs": [
    {
     "name": "stdout",
     "output_type": "stream",
     "text": [
      "Average accuracy: 0.36450096130737797\n"
     ]
    }
   ],
   "source": [
    "from sklearn.naive_bayes import GaussianNB\n",
    "nb = Pipeline(steps=[('smt',SMOTE()),('nb',GaussianNB())])\n",
    "accuracies = cross_val_score(nb,df_features,labels,cv=10)\n",
    "print('Average accuracy:',np.mean(accuracies))"
   ]
  },
  {
   "cell_type": "code",
   "execution_count": 25,
   "metadata": {},
   "outputs": [
    {
     "name": "stdout",
     "output_type": "stream",
     "text": [
      "Confusion matrix:\n",
      " [[ 38   6   2  12]\n",
      " [ 26  13   6   7]\n",
      " [124  48 187 178]\n",
      " [ 53   5   6  33]]\n",
      "\n",
      "Classification report:\n",
      "               precision    recall  f1-score   support\n",
      "\n",
      "       Month       0.16      0.66      0.25        58\n",
      "        More       0.18      0.25      0.21        52\n",
      "     On Time       0.93      0.35      0.51       537\n",
      "        Week       0.14      0.34      0.20        97\n",
      "\n",
      "    accuracy                           0.36       744\n",
      "   macro avg       0.35      0.40      0.29       744\n",
      "weighted avg       0.72      0.36      0.43       744\n",
      "\n"
     ]
    }
   ],
   "source": [
    "predicted_labels = cross_val_predict(nb,df_features,labels,cv=5)\n",
    "print('Confusion matrix:\\n',confusion_matrix(labels, predicted_labels))\n",
    "print('\\nClassification report:\\n',classification_report(labels, predicted_labels))"
   ]
  },
  {
   "cell_type": "markdown",
   "metadata": {},
   "source": [
    "## AdaBoost"
   ]
  },
  {
   "cell_type": "code",
   "execution_count": 26,
   "metadata": {},
   "outputs": [
    {
     "name": "stdout",
     "output_type": "stream",
     "text": [
      "Average accuracy: 0.38206423073972745\n"
     ]
    }
   ],
   "source": [
    "from sklearn.ensemble import AdaBoostClassifier\n",
    "ab = Pipeline(steps=[('smt',SMOTE()),('ab',AdaBoostClassifier(n_estimators=150))])\n",
    "accuracies = cross_val_score(ab, df_features, labels, cv=5)\n",
    "print('Average accuracy:',np.mean(accuracies))"
   ]
  },
  {
   "cell_type": "code",
   "execution_count": 27,
   "metadata": {},
   "outputs": [
    {
     "name": "stdout",
     "output_type": "stream",
     "text": [
      "Confusion matrix:\n",
      " [[ 22   9  14  13]\n",
      " [  9  28  10   5]\n",
      " [118  26 234 159]\n",
      " [ 29   6  25  37]]\n",
      "\n",
      "Classification report:\n",
      "               precision    recall  f1-score   support\n",
      "\n",
      "       Month       0.12      0.38      0.19        58\n",
      "        More       0.41      0.54      0.46        52\n",
      "     On Time       0.83      0.44      0.57       537\n",
      "        Week       0.17      0.38      0.24        97\n",
      "\n",
      "    accuracy                           0.43       744\n",
      "   macro avg       0.38      0.43      0.36       744\n",
      "weighted avg       0.66      0.43      0.49       744\n",
      "\n"
     ]
    }
   ],
   "source": [
    "predicted_labels = cross_val_predict(ab,df_features,labels,cv=5)\n",
    "print('Confusion matrix:\\n',confusion_matrix(labels, predicted_labels))\n",
    "print('\\nClassification report:\\n',classification_report(labels, predicted_labels))"
   ]
  },
  {
   "cell_type": "markdown",
   "metadata": {},
   "source": [
    "## Random Forest"
   ]
  },
  {
   "cell_type": "code",
   "execution_count": 48,
   "metadata": {},
   "outputs": [
    {
     "name": "stdout",
     "output_type": "stream",
     "text": [
      "Official accuracy: 0.6533691550720879\n"
     ]
    }
   ],
   "source": [
    "from sklearn.ensemble import RandomForestClassifier\n",
    "rf = Pipeline(steps=[('smt',SMOTE()),('rf',RandomForestClassifier(n_estimators=10))])\n",
    "accuracies = cross_val_score(rf.fit(df_features,labels), df_features, labels, cv=5)\n",
    "print('Official accuracy:',np.mean(accuracies))"
   ]
  },
  {
   "cell_type": "code",
   "execution_count": 47,
   "metadata": {},
   "outputs": [
    {
     "name": "stdout",
     "output_type": "stream",
     "text": [
      "Confusion matrix:\n",
      " [[ 15  12  20  11]\n",
      " [ 11  27  12   2]\n",
      " [ 38  24 428  47]\n",
      " [ 18   4  52  23]]\n",
      "\n",
      "Classification report:\n",
      "               precision    recall  f1-score   support\n",
      "\n",
      "       Month       0.18      0.26      0.21        58\n",
      "        More       0.40      0.52      0.45        52\n",
      "     On Time       0.84      0.80      0.82       537\n",
      "        Week       0.28      0.24      0.26        97\n",
      "\n",
      "    accuracy                           0.66       744\n",
      "   macro avg       0.42      0.45      0.43       744\n",
      "weighted avg       0.68      0.66      0.67       744\n",
      "\n"
     ]
    }
   ],
   "source": [
    "predicted_labels = cross_val_predict(pipedrf,df_features,labels,cv=5)\n",
    "print('Confusion matrix:\\n',confusion_matrix(labels, predicted_labels))\n",
    "print('\\nClassification report:\\n',classification_report(labels, predicted_labels))"
   ]
  },
  {
   "cell_type": "markdown",
   "metadata": {},
   "source": [
    "## Voting Classifier\n",
    "SVM, Random Forest, AdaBoost, KNN, and Neural Nets are combined in a voting classifier."
   ]
  },
  {
   "cell_type": "code",
   "execution_count": 52,
   "metadata": {},
   "outputs": [
    {
     "name": "stdout",
     "output_type": "stream",
     "text": [
      "Average accuracy: 0.6195258307368052\n"
     ]
    }
   ],
   "source": [
    "votingclf = Pipeline(steps=[('smt',SMOTE()),('vc',VotingClassifier(estimators=[('svc', pipedsvm), ('rf', rf), ('knn', pipedknn), ('nn', pipednn)], weights=[1,2,1,1], voting='hard'))])\n",
    "accuracies = cross_val_score(votingclf, df_features, labels, cv=5)\n",
    "print('Average accuracy:',np.mean(accuracies))"
   ]
  },
  {
   "cell_type": "code",
   "execution_count": 53,
   "metadata": {},
   "outputs": [
    {
     "name": "stdout",
     "output_type": "stream",
     "text": [
      "Confusion matrix:\n",
      " [[ 14  11  19  14]\n",
      " [ 10  20  18   4]\n",
      " [ 48  36 395  58]\n",
      " [ 21   5  43  28]]\n",
      "\n",
      "Classification report:\n",
      "               precision    recall  f1-score   support\n",
      "\n",
      "       Month       0.15      0.24      0.19        58\n",
      "        More       0.28      0.38      0.32        52\n",
      "     On Time       0.83      0.74      0.78       537\n",
      "        Week       0.27      0.29      0.28        97\n",
      "\n",
      "    accuracy                           0.61       744\n",
      "   macro avg       0.38      0.41      0.39       744\n",
      "weighted avg       0.67      0.61      0.64       744\n",
      "\n"
     ]
    }
   ],
   "source": [
    "predicted_labels = cross_val_predict(votingclf,df_features,labels,cv=5)\n",
    "print('Confusion matrix:\\n',confusion_matrix(labels, predicted_labels))\n",
    "print('\\nClassification report:\\n',classification_report(labels, predicted_labels))"
   ]
  },
  {
   "cell_type": "code",
   "execution_count": 54,
   "metadata": {},
   "outputs": [],
   "source": [
    "filename = 'finalized_model.sav'\n",
    "pickle.dump(votingclf, open(filename, 'wb'))"
   ]
  },
  {
   "cell_type": "code",
   "execution_count": null,
   "metadata": {},
   "outputs": [],
   "source": []
  }
 ],
 "metadata": {
  "kernelspec": {
   "display_name": "Python 3",
   "language": "python",
   "name": "python3"
  },
  "language_info": {
   "codemirror_mode": {
    "name": "ipython",
    "version": 3
   },
   "file_extension": ".py",
   "mimetype": "text/x-python",
   "name": "python",
   "nbconvert_exporter": "python",
   "pygments_lexer": "ipython3",
   "version": "3.7.3"
  }
 },
 "nbformat": 4,
 "nbformat_minor": 2
}
