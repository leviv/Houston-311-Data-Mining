{
 "cells": [
  {
   "cell_type": "markdown",
   "metadata": {},
   "source": [
    "# Houston 311 Service Requests Data Mining Project"
   ]
  },
  {
   "cell_type": "markdown",
   "metadata": {},
   "source": [
    "## Group members\n",
    "Stephen Huang\n",
    "\n",
    "Levi Villarreal\n",
    "\n",
    "Joshua Wong\n",
    "\n",
    "Andrew Young\n"
   ]
  },
  {
   "cell_type": "markdown",
   "metadata": {},
   "source": [
    "### Code Imports"
   ]
  },
  {
   "cell_type": "code",
   "execution_count": 1,
   "metadata": {},
   "outputs": [],
   "source": [
    "import pandas as pd"
   ]
  },
  {
   "cell_type": "markdown",
   "metadata": {},
   "source": [
    "### Import data"
   ]
  },
  {
   "cell_type": "code",
   "execution_count": 6,
   "metadata": {},
   "outputs": [
    {
     "data": {
      "text/plain": [
       "<bound method NDFrame.head of                   CASE NUMBER  \\\n",
       "0                 CASE NUMBER   \n",
       "1                101002866096   \n",
       "2       12202635-101002866097   \n",
       "3       12202636-101002866098   \n",
       "4       12202637-101002866099   \n",
       "...                       ...   \n",
       "399948           101003318948   \n",
       "399949           101003318949   \n",
       "399950           101003318950   \n",
       "399951           101003318951   \n",
       "399952           101003318952   \n",
       "\n",
       "                                              SR LOCATION         COUNTY  \\\n",
       "0                                             SR LOCATION         COUNTY   \n",
       "1       Intersection 13300 HEMPSTEAD RD&9100 PINEMONT ...  Harris County   \n",
       "2                       2803 W BELLFORT, HOUSTON TX 77054            NaN   \n",
       "3                           2115 HUTTON, HOUSTON TX 77026         HARRIS   \n",
       "4                   14806 STEEPLE CHASE, HOUSTON TX 77489      FORT BEND   \n",
       "...                                                   ...            ...   \n",
       "399948                      1412 ASBURY, HOUSTON TX 77007         HARRIS   \n",
       "399949                   15414 MARKWOOD, HOUSTON TX 77053         HARRIS   \n",
       "399950                   15414 MARKWOOD, HOUSTON TX 77053         HARRIS   \n",
       "399951                    2411 WOODHEAD, HOUSTON TX 77019         HARRIS   \n",
       "399952        Intersection 4700 W OREM DR&13800 PLAYER ST  Harris County   \n",
       "\n",
       "        DISTRICT                              NEIGHBORHOOD            TAX ID  \\\n",
       "0       DISTRICT                              NEIGHBORHOOD            TAX ID   \n",
       "1              A            FAIRBANKS / NORTHWEST CROSSING               NaN   \n",
       "2              K                                SOUTH MAIN               NaN   \n",
       "3              B                        GREATER FIFTH WARD     0170560000001   \n",
       "4              K                         FORT BEND HOUSTON  9550030090110907   \n",
       "...          ...                                       ...               ...   \n",
       "399948         C  WASHINGTON AVENUE COALITION / MEMORIAL P     0300530090075   \n",
       "399949         K                         CENTRAL SOUTHWEST     1097910000026   \n",
       "399950         K                         CENTRAL SOUTHWEST     1097910000026   \n",
       "399951         C                       NEARTOWN - MONTROSE     0291720130002   \n",
       "399952         K                         CENTRAL SOUTHWEST               NaN   \n",
       "\n",
       "        TRASH QUAD  RECYCLE QUAD  TRASH DAY  HEAVY TRASH DAY  ...  \\\n",
       "0       TRASH QUAD  RECYCLE QUAD  TRASH DAY  HEAVY TRASH DAY  ...   \n",
       "1              NaN           NaN        NaN              NaN  ...   \n",
       "2              NaN           NaN        NaN              NaN  ...   \n",
       "3               NE            NW     FRIDAY     1st Thursday  ...   \n",
       "4               SW            SW   THURSDAY     3rd Thursday  ...   \n",
       "...            ...           ...        ...              ...  ...   \n",
       "399948          NW            NW     MONDAY    1st Wednesday  ...   \n",
       "399949          SW            SW     FRIDAY     4th Thursday  ...   \n",
       "399950          SW            SW     FRIDAY     4th Thursday  ...   \n",
       "399951          NW            NE     MONDAY    1st Wednesday  ...   \n",
       "399952          SW            SW     FRIDAY       4th Monday  ...   \n",
       "\n",
       "             SR CREATE DATE             DUE DATE          DATE CLOSED  \\\n",
       "0            SR CREATE DATE             DUE DATE          DATE CLOSED   \n",
       "1       2018-01-01 00:38:05  2018-01-02 00:38:05  2018-01-01 01:31:49   \n",
       "2       2018-01-01 00:41:49  2018-01-11 00:41:49  2018-01-01 05:45:02   \n",
       "3       2018-01-01 00:45:07  2018-01-03 00:45:07  2018-01-01 09:55:02   \n",
       "4       2018-01-01 00:51:20  2018-01-06 00:51:20  2018-01-01 16:10:02   \n",
       "...                     ...                  ...                  ...   \n",
       "399948  2018-12-31 23:08:20  2019-01-04 08:00:00  2019-01-04 16:57:42   \n",
       "399949  2018-12-31 23:21:20  2019-01-09 08:00:00  2019-01-02 08:45:54   \n",
       "399950  2018-12-31 23:21:46  2019-01-04 08:00:00  2019-01-05 09:04:41   \n",
       "399951  2018-12-31 23:25:36  2019-01-04 08:00:00  2019-01-02 07:58:04   \n",
       "399952  2018-12-31 23:44:53  2019-01-04 23:44:53  2019-01-03 08:26:41   \n",
       "\n",
       "        OVERDUE                                              Title  \\\n",
       "0       OVERDUE                                              Title   \n",
       "1         -0.96            Traffic Signal Maintenance-101002866096   \n",
       "2         -9.79                            Water Leak-101002866097   \n",
       "3         -1.62                         Water Service-101002866098   \n",
       "4         -4.36                      Water Main Valve-101002866099   \n",
       "...         ...                                                ...   \n",
       "399948     0.37                 Missed Recycling Collection Report   \n",
       "399949    -6.97  Missed Heavy Trash Pick Up (alternating Tree a...   \n",
       "399950     1.04    Missed Recycling Collection Report-101003318950   \n",
       "399951       -2                 Missed Recycling Collection Report   \n",
       "399952    -1.64  Remove Dead Animal from City Street or Curb-10...   \n",
       "\n",
       "                          x                     y     LATITUDE     LONGITUDE  \\\n",
       "0                         x                     y     LATITUDE     LONGITUDE   \n",
       "1       3073146.72528000000  13869806.76417000000  29.84103211  -95.51509863   \n",
       "2       3104254.38025000000  13809501.20958000000  29.67268442  -95.42283905   \n",
       "3       3131779.00434000000  13849821.40912000000   29.7811689  -95.33222248   \n",
       "4       3079284.91871000000  13786008.44784000000  29.61018299  -95.50364663   \n",
       "...                     ...                   ...          ...           ...   \n",
       "399948                  NaN                   NaN  29.77368222  -95.41827554   \n",
       "399949          3.09283e+06           1.37832e+07  29.60127195  -95.46130763   \n",
       "399950          3.09283e+06           1.37832e+07  29.60127195  -95.46130763   \n",
       "399951                  NaN                   NaN  29.74440418  -95.40434809   \n",
       "399952          3.09634e+06           1.37928e+07  29.62746421  -95.44934856   \n",
       "\n",
       "        Channel Type  \n",
       "0       Channel Type  \n",
       "1           Voice In  \n",
       "2           Voice In  \n",
       "3           Voice In  \n",
       "4           Voice In  \n",
       "...              ...  \n",
       "399948       Unknown  \n",
       "399949      Voice In  \n",
       "399950      Voice In  \n",
       "399951           WEB  \n",
       "399952      Voice In  \n",
       "\n",
       "[399953 rows x 29 columns]>"
      ]
     },
     "execution_count": 6,
     "metadata": {},
     "output_type": "execute_result"
    }
   ],
   "source": [
    "# Data is from http://www.houstontx.gov/311/\n",
    "names = [\"CASE NUMBER\", \"SR LOCATION\", \"COUNTY\", \"DISTRICT\", \"NEIGHBORHOOD\", \"TAX ID\", \n",
    "         \"TRASH QUAD\", \"RECYCLE QUAD\", \"TRASH DAY\", \"HEAVY TRASH DAY\", \"RECYCLE DAY\", \n",
    "         \"KEY MAP\", \"MANAGEMENT DISTRICT\", \"DEPARTMENT\", \"DIVISION\", \"SR TYPE\", \"QUEUE\", \n",
    "         \"SLA\", \"STATUS\", \"SR CREATE DATE\", \"DUE DATE\", \"DATE CLOSED\", \"OVERDUE\", \"Title\", \n",
    "         \"x\", \"y\", \"LATITUDE\", \"LONGITUDE\", \"Channel Type\"]\n",
    "\n",
    "data = pd.read_csv('311-Public-Data-Extract-2018-clean.txt', sep=\"|\", header=None, names=names)\n",
    "data.head"
   ]
  },
  {
   "cell_type": "code",
   "execution_count": null,
   "metadata": {},
   "outputs": [],
   "source": []
  }
 ],
 "metadata": {
  "kernelspec": {
   "display_name": "Python 3",
   "language": "python",
   "name": "python3"
  },
  "language_info": {
   "codemirror_mode": {
    "name": "ipython",
    "version": 3
   },
   "file_extension": ".py",
   "mimetype": "text/x-python",
   "name": "python",
   "nbconvert_exporter": "python",
   "pygments_lexer": "ipython3",
   "version": "3.7.4"
  }
 },
 "nbformat": 4,
 "nbformat_minor": 2
}
